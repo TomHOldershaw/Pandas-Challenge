{
 "cells": [
  {
   "cell_type": "code",
   "execution_count": null,
   "id": "35a41649",
   "metadata": {},
   "outputs": [],
   "source": [
    "#import dependencies\n",
    "import pandas as pd"
   ]
  },
  {
   "cell_type": "code",
   "execution_count": null,
   "id": "5608b012",
   "metadata": {},
   "outputs": [],
   "source": [
    "#open dataset"
   ]
  },
  {
   "cell_type": "code",
   "execution_count": null,
   "id": "e72d76be",
   "metadata": {},
   "outputs": [],
   "source": [
    "#Check dataset consistency and stats"
   ]
  },
  {
   "cell_type": "markdown",
   "id": "6ebd7f46",
   "metadata": {},
   "source": [
    "Primary analysis\n",
    "================"
   ]
  },
  {
   "cell_type": "markdown",
   "id": "681675ba",
   "metadata": {},
   "source": [
    "District Summary\n",
    "------------------------"
   ]
  },
  {
   "cell_type": "code",
   "execution_count": null,
   "id": "c3530ef1",
   "metadata": {},
   "outputs": [],
   "source": [
    "#Total schools\n",
    "\n",
    "\n",
    "#Total students\n",
    "\n",
    "\n",
    "#Total budget\n",
    "\n",
    "\n",
    "#Average maths score\n",
    "\n",
    "\n",
    "#Average reading score\n",
    "\n",
    "\n",
    "#% passing maths\n",
    "\n",
    "\n",
    "#% passing reading\n",
    "\n",
    "\n",
    "#% overall passing\n",
    "\n",
    "\n",
    "#Create summary table"
   ]
  },
  {
   "cell_type": "markdown",
   "id": "9615f332",
   "metadata": {},
   "source": [
    "School Summary\n",
    "------------------------"
   ]
  },
  {
   "cell_type": "code",
   "execution_count": null,
   "id": "5489878c",
   "metadata": {},
   "outputs": [],
   "source": [
    "#Group by School Name\n",
    "\n",
    "\n",
    "#Select columns\n",
    "\n",
    "\n",
    "#Total students\n",
    "\n",
    "\n",
    "#Total school budget\n",
    "\n",
    "\n",
    "#Per student budget\n",
    "\n",
    "\n",
    "#Average maths score\n",
    "\n",
    "\n",
    "#Average reading score\n",
    "\n",
    "\n",
    "#% Passing maths\n",
    "\n",
    "\n",
    "#% passing reading\n",
    "\n",
    "\n",
    "#% overall passing"
   ]
  },
  {
   "cell_type": "markdown",
   "id": "e56b7aa7",
   "metadata": {},
   "source": [
    "Top performing schools\n",
    "----------------------------------"
   ]
  },
  {
   "cell_type": "code",
   "execution_count": null,
   "id": "8cb2f91a",
   "metadata": {},
   "outputs": [],
   "source": [
    "#Sort school summary\n",
    "\n",
    "\n",
    "#Select top 5"
   ]
  },
  {
   "cell_type": "markdown",
   "id": "367c4055",
   "metadata": {},
   "source": [
    "Bottom performing schools\n",
    "-------------------------------------"
   ]
  },
  {
   "cell_type": "code",
   "execution_count": null,
   "id": "195da852",
   "metadata": {},
   "outputs": [],
   "source": [
    "#Sort school summary\n",
    "\n",
    "\n",
    "#Select bottom 5\n"
   ]
  },
  {
   "cell_type": "markdown",
   "id": "3ba70502",
   "metadata": {},
   "source": [
    "Secondary analysis\n",
    "=================="
   ]
  },
  {
   "cell_type": "markdown",
   "id": "e500e319",
   "metadata": {},
   "source": [
    "Maths scores by grade\n",
    "---------------------"
   ]
  },
  {
   "cell_type": "markdown",
   "id": "79c21e80",
   "metadata": {},
   "source": [
    "Reading scores by grade\n",
    "-----------------------"
   ]
  },
  {
   "cell_type": "markdown",
   "id": "fa9db164",
   "metadata": {},
   "source": [
    "Scores by school spending\n",
    "-------------------------"
   ]
  },
  {
   "cell_type": "code",
   "execution_count": null,
   "id": "6bfc2034",
   "metadata": {},
   "outputs": [],
   "source": [
    "#Define bins\n",
    "\n",
    "\n",
    "#Select data\n",
    "\n",
    "\n",
    "#Bin data"
   ]
  },
  {
   "cell_type": "markdown",
   "id": "edbbef94",
   "metadata": {},
   "source": [
    "Scores by school size\n",
    "---------------------"
   ]
  },
  {
   "cell_type": "code",
   "execution_count": null,
   "id": "8a566d82",
   "metadata": {},
   "outputs": [],
   "source": [
    "#Define bins\n",
    "\n",
    "\n",
    "#Select data\n",
    "\n",
    "\n",
    "#Bin data"
   ]
  },
  {
   "cell_type": "markdown",
   "id": "8d916164",
   "metadata": {},
   "source": [
    "Scores by school type\n",
    "---------------------"
   ]
  },
  {
   "cell_type": "code",
   "execution_count": null,
   "id": "fd662241",
   "metadata": {},
   "outputs": [],
   "source": [
    "#Define bins\n",
    "\n",
    "\n",
    "#Select data\n",
    "\n",
    "\n",
    "#Bin data"
   ]
  },
  {
   "cell_type": "markdown",
   "id": "7724e314",
   "metadata": {},
   "source": [
    "Reporting\n",
    "========="
   ]
  }
 ],
 "metadata": {
  "kernelspec": {
   "display_name": "Python 3 (ipykernel)",
   "language": "python",
   "name": "python3"
  },
  "language_info": {
   "codemirror_mode": {
    "name": "ipython",
    "version": 3
   },
   "file_extension": ".py",
   "mimetype": "text/x-python",
   "name": "python",
   "nbconvert_exporter": "python",
   "pygments_lexer": "ipython3",
   "version": "3.8.10"
  }
 },
 "nbformat": 4,
 "nbformat_minor": 5
}

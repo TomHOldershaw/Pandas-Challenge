{
 "cells": [
  {
   "cell_type": "code",
   "execution_count": 2,
   "id": "35a41649",
   "metadata": {},
   "outputs": [],
   "source": [
    "#import dependencies\n",
    "import pandas as pd"
   ]
  },
  {
   "cell_type": "code",
   "execution_count": 12,
   "id": "1fdbafdc",
   "metadata": {},
   "outputs": [],
   "source": [
    "#open dataset\n",
    "schools_csv = \"Resources/schools_complete.csv\"\n",
    "students_csv = \"Resources/students_complete.csv\"\n",
    "\n",
    "schools_df = pd.read_csv(schools_csv, index_col=\"School ID\")\n",
    "students_df = pd.read_csv(students_csv, index_col=\"Student ID\")"
   ]
  },
  {
   "cell_type": "code",
   "execution_count": 13,
   "id": "63c73f6d",
   "metadata": {},
   "outputs": [
    {
     "name": "stdout",
     "output_type": "stream",
     "text": [
      "              size        budget\n",
      "count    15.000000  1.500000e+01\n",
      "mean   2611.333333  1.643295e+06\n",
      "std    1420.915282  9.347763e+05\n",
      "min     427.000000  2.480870e+05\n",
      "25%    1698.000000  1.046265e+06\n",
      "50%    2283.000000  1.319574e+06\n",
      "75%    3474.000000  2.228999e+06\n",
      "max    4976.000000  3.124928e+06\n",
      "school_name    object\n",
      "type           object\n",
      "size            int64\n",
      "budget          int64\n",
      "dtype: object\n",
      "school_name    15\n",
      "type           15\n",
      "size           15\n",
      "budget         15\n",
      "dtype: int64\n",
      "                     school_name      type  size   budget\n",
      "School ID                                                \n",
      "0              Huang High School  District  2917  1910635\n",
      "1           Figueroa High School  District  2949  1884411\n",
      "2            Shelton High School   Charter  1761  1056600\n",
      "3          Hernandez High School  District  4635  3022020\n",
      "4            Griffin High School   Charter  1468   917500\n"
     ]
    }
   ],
   "source": [
    "#Check dataset consistency and stats\n",
    "print(schools_df.describe())\n",
    "print(schools_df.dtypes)\n",
    "print(schools_df.count())\n",
    "print(schools_df.head())"
   ]
  },
  {
   "cell_type": "code",
   "execution_count": 14,
   "id": "fde0ca06",
   "metadata": {},
   "outputs": [
    {
     "name": "stdout",
     "output_type": "stream",
     "text": [
      "       reading_score    math_score\n",
      "count    39170.00000  39170.000000\n",
      "mean        81.87784     78.985371\n",
      "std         10.23958     12.309968\n",
      "min         63.00000     55.000000\n",
      "25%         73.00000     69.000000\n",
      "50%         82.00000     79.000000\n",
      "75%         91.00000     89.000000\n",
      "max         99.00000     99.000000\n",
      "student_name     object\n",
      "gender           object\n",
      "grade            object\n",
      "school_name      object\n",
      "reading_score     int64\n",
      "math_score        int64\n",
      "dtype: object\n",
      "student_name     39170\n",
      "gender           39170\n",
      "grade            39170\n",
      "school_name      39170\n",
      "reading_score    39170\n",
      "math_score       39170\n",
      "dtype: int64\n",
      "                 student_name gender grade        school_name  reading_score  \\\n",
      "Student ID                                                                     \n",
      "0                Paul Bradley      M   9th  Huang High School             66   \n",
      "1                Victor Smith      M  12th  Huang High School             94   \n",
      "2             Kevin Rodriguez      M  12th  Huang High School             90   \n",
      "3           Dr. Richard Scott      M  12th  Huang High School             67   \n",
      "4                  Bonnie Ray      F   9th  Huang High School             97   \n",
      "\n",
      "            math_score  \n",
      "Student ID              \n",
      "0                   79  \n",
      "1                   61  \n",
      "2                   60  \n",
      "3                   58  \n",
      "4                   84  \n"
     ]
    }
   ],
   "source": [
    "#Check dataset consistency and stats\n",
    "print(students_df.describe())\n",
    "print(students_df.dtypes)\n",
    "print(students_df.count())\n",
    "print(students_df.head())"
   ]
  },
  {
   "cell_type": "code",
   "execution_count": 29,
   "id": "f9e2a5ce",
   "metadata": {},
   "outputs": [],
   "source": [
    "#Set pass mark\n",
    "maths_pass = 65\n",
    "reading_pass = 65"
   ]
  },
  {
   "cell_type": "markdown",
   "id": "ea12e148",
   "metadata": {},
   "source": [
    "Primary analysis\n",
    "================"
   ]
  },
  {
   "cell_type": "markdown",
   "id": "2fa7067d",
   "metadata": {},
   "source": [
    "District Summary\n",
    "------------------------"
   ]
  },
  {
   "cell_type": "code",
   "execution_count": 31,
   "id": "73fc11cf",
   "metadata": {},
   "outputs": [
    {
     "data": {
      "text/html": [
       "<div>\n",
       "<style scoped>\n",
       "    .dataframe tbody tr th:only-of-type {\n",
       "        vertical-align: middle;\n",
       "    }\n",
       "\n",
       "    .dataframe tbody tr th {\n",
       "        vertical-align: top;\n",
       "    }\n",
       "\n",
       "    .dataframe thead th {\n",
       "        text-align: right;\n",
       "    }\n",
       "</style>\n",
       "<table border=\"1\" class=\"dataframe\">\n",
       "  <thead>\n",
       "    <tr style=\"text-align: right;\">\n",
       "      <th></th>\n",
       "      <th>Total Schools</th>\n",
       "      <th>Total Students</th>\n",
       "      <th>Total Budget</th>\n",
       "      <th>Average Maths Score</th>\n",
       "      <th>Average Reading Score</th>\n",
       "      <th>% passing maths</th>\n",
       "      <th>% passing reading</th>\n",
       "      <th>% passing both</th>\n",
       "    </tr>\n",
       "  </thead>\n",
       "  <tbody>\n",
       "    <tr>\n",
       "      <th>1</th>\n",
       "      <td>15</td>\n",
       "      <td>39170</td>\n",
       "      <td>24649428</td>\n",
       "      <td>78.985371</td>\n",
       "      <td>81.87784</td>\n",
       "      <td>83.112076</td>\n",
       "      <td>94.263467</td>\n",
       "      <td>78.787337</td>\n",
       "    </tr>\n",
       "  </tbody>\n",
       "</table>\n",
       "</div>"
      ],
      "text/plain": [
       "   Total Schools  Total Students  Total Budget  Average Maths Score  \\\n",
       "1             15           39170      24649428            78.985371   \n",
       "\n",
       "   Average Reading Score  % passing maths  % passing reading  % passing both  \n",
       "1               81.87784        83.112076          94.263467       78.787337  "
      ]
     },
     "execution_count": 31,
     "metadata": {},
     "output_type": "execute_result"
    }
   ],
   "source": [
    "#Total schools\n",
    "total_schools = schools_df.school_name.count()\n",
    "\n",
    "#Total students\n",
    "total_students = students_df.school_name.count()\n",
    "\n",
    "#Total budget\n",
    "total_budget = schools_df.budget.sum()\n",
    "\n",
    "#Average maths score\n",
    "average_maths = students_df.math_score.mean()\n",
    "\n",
    "#Average reading score\n",
    "average_reading = students_df.reading_score.mean()\n",
    "\n",
    "#% passing maths\n",
    "pc_pass_maths = students_df[students_df.math_score > maths_pass].count()[\"math_score\"]*100/total_students\n",
    "\n",
    "#% passing reading\n",
    "pc_pass_read = students_df[students_df.reading_score > reading_pass].count()[\"reading_score\"]*100/total_students\n",
    "\n",
    "#% overall passing\n",
    "pc_pass_both = students_df[(students_df.math_score > maths_pass) & (students_df.reading_score > reading_pass)].count()[\"math_score\"]*100/total_students\n",
    "\n",
    "#Create summary table\n",
    "summary_df = pd.DataFrame(\n",
    "              {\"Total Schools\": total_schools, \"Total Students\": total_students, \"Total Budget\": total_budget, \n",
    "               \"Average Maths Score\": average_maths, \"Average Reading Score\": average_reading,\n",
    "              \"% passing maths\": pc_pass_maths, \"% passing reading\": pc_pass_read,\n",
    "              \"% passing both\": pc_pass_both}, index=[1])\n",
    "\n",
    "summary_df"
   ]
  },
  {
   "cell_type": "markdown",
   "id": "8c8e13bb",
   "metadata": {},
   "source": [
    "School Summary\n",
    "------------------------"
   ]
  },
  {
   "cell_type": "code",
   "execution_count": 40,
   "id": "b3adefcd",
   "metadata": {},
   "outputs": [
    {
     "data": {
      "text/plain": [
       "school_name\n",
       "Bailey High School       77.048432\n",
       "Cabrera High School      83.061895\n",
       "Figueroa High School     76.711767\n",
       "Ford High School         77.102592\n",
       "Griffin High School      83.351499\n",
       "Hernandez High School    77.289752\n",
       "Holden High School       83.803279\n",
       "Huang High School        76.629414\n",
       "Johnson High School      77.072464\n",
       "Pena High School         83.839917\n",
       "Rodriguez High School    76.842711\n",
       "Shelton High School      83.359455\n",
       "Thomas High School       83.418349\n",
       "Wilson High School       83.274201\n",
       "Wright High School       83.682222\n",
       "Name: math_score, dtype: float64"
      ]
     },
     "execution_count": 40,
     "metadata": {},
     "output_type": "execute_result"
    }
   ],
   "source": [
    "#Group by School Name\n",
    "grouped_students = students_df.groupby(\"school_name\")\n",
    "\n",
    "#Select columns\n",
    "\n",
    "#Total students\n",
    "school_students = grouped_students[\"school_name\"].size()\n",
    "\n",
    "#Total school budget\n",
    "\n",
    "\n",
    "#Per student budget\n",
    "\n",
    "\n",
    "#Average maths score\n",
    "school_average_maths = grouped_students[\"math_score\"].mean()\n",
    "\n",
    "#Average reading score\n",
    "school_average_reading = grouped_students[\"reading_score\"].mean()\n",
    "\n",
    "#% Passing maths\n",
    "#school_passing_maths = grouped_students[\"math_score\" > reading_pass].count()\n",
    "\n",
    "#% passing reading\n",
    "\n",
    "\n",
    "#% overall passing\n",
    "\n",
    "school_average_maths"
   ]
  },
  {
   "cell_type": "markdown",
   "id": "ce0f2d3a",
   "metadata": {},
   "source": [
    "Top performing schools\n",
    "----------------------------------"
   ]
  },
  {
   "cell_type": "code",
   "execution_count": null,
   "id": "73bdc356",
   "metadata": {},
   "outputs": [],
   "source": [
    "#Sort school summary\n",
    "\n",
    "\n",
    "#Select top 5"
   ]
  },
  {
   "cell_type": "markdown",
   "id": "4d9a0a0e",
   "metadata": {},
   "source": [
    "Bottom performing schools\n",
    "-------------------------------------"
   ]
  },
  {
   "cell_type": "code",
   "execution_count": null,
   "id": "167d279c",
   "metadata": {},
   "outputs": [],
   "source": [
    "#Sort school summary\n",
    "\n",
    "\n",
    "#Select bottom 5\n"
   ]
  },
  {
   "cell_type": "markdown",
   "id": "d8de1282",
   "metadata": {},
   "source": [
    "Secondary analysis\n",
    "=================="
   ]
  },
  {
   "cell_type": "markdown",
   "id": "ac7111b9",
   "metadata": {},
   "source": [
    "Maths scores by grade\n",
    "---------------------"
   ]
  },
  {
   "cell_type": "markdown",
   "id": "c0a8bdb8",
   "metadata": {},
   "source": [
    "Reading scores by grade\n",
    "-----------------------"
   ]
  },
  {
   "cell_type": "markdown",
   "id": "dbc7ab12",
   "metadata": {},
   "source": [
    "Scores by school spending\n",
    "-------------------------"
   ]
  },
  {
   "cell_type": "code",
   "execution_count": null,
   "id": "61a1b381",
   "metadata": {},
   "outputs": [],
   "source": [
    "#Define bins\n",
    "\n",
    "\n",
    "#Select data\n",
    "\n",
    "\n",
    "#Bin data"
   ]
  },
  {
   "cell_type": "markdown",
   "id": "bdfda08a",
   "metadata": {},
   "source": [
    "Scores by school size\n",
    "---------------------"
   ]
  },
  {
   "cell_type": "code",
   "execution_count": null,
   "id": "6076589d",
   "metadata": {},
   "outputs": [],
   "source": [
    "#Define bins\n",
    "\n",
    "\n",
    "#Select data\n",
    "\n",
    "\n",
    "#Bin data"
   ]
  },
  {
   "cell_type": "markdown",
   "id": "cf2cd373",
   "metadata": {},
   "source": [
    "Scores by school type\n",
    "---------------------"
   ]
  },
  {
   "cell_type": "code",
   "execution_count": null,
   "id": "c9bf53d5",
   "metadata": {},
   "outputs": [],
   "source": [
    "#Define bins\n",
    "\n",
    "\n",
    "#Select data\n",
    "\n",
    "\n",
    "#Bin data"
   ]
  },
  {
   "cell_type": "markdown",
   "id": "c22d8989",
   "metadata": {},
   "source": [
    "Reporting\n",
    "========="
   ]
  }
 ],
 "metadata": {
  "kernelspec": {
   "display_name": "Python 3 (ipykernel)",
   "language": "python",
   "name": "python3"
  },
  "language_info": {
   "codemirror_mode": {
    "name": "ipython",
    "version": 3
   },
   "file_extension": ".py",
   "mimetype": "text/x-python",
   "name": "python",
   "nbconvert_exporter": "python",
   "pygments_lexer": "ipython3",
   "version": "3.8.10"
  }
 },
 "nbformat": 4,
 "nbformat_minor": 5
}

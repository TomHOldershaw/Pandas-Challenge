{
 "cells": [
  {
   "cell_type": "code",
   "execution_count": 2,
   "id": "35a41649",
   "metadata": {},
   "outputs": [],
   "source": [
    "#import dependencies\n",
    "import pandas as pd"
   ]
  },
  {
   "cell_type": "code",
   "execution_count": 12,
   "id": "32cf95d0",
   "metadata": {},
   "outputs": [],
   "source": [
    "#open dataset\n",
    "schools_csv = \"Resources/schools_complete.csv\"\n",
    "students_csv = \"Resources/students_complete.csv\"\n",
    "\n",
    "schools_df = pd.read_csv(schools_csv, index_col=\"School ID\")\n",
    "students_df = pd.read_csv(students_csv, index_col=\"Student ID\")"
   ]
  },
  {
   "cell_type": "code",
   "execution_count": 13,
   "id": "2f8e6ae7",
   "metadata": {},
   "outputs": [
    {
     "name": "stdout",
     "output_type": "stream",
     "text": [
      "              size        budget\n",
      "count    15.000000  1.500000e+01\n",
      "mean   2611.333333  1.643295e+06\n",
      "std    1420.915282  9.347763e+05\n",
      "min     427.000000  2.480870e+05\n",
      "25%    1698.000000  1.046265e+06\n",
      "50%    2283.000000  1.319574e+06\n",
      "75%    3474.000000  2.228999e+06\n",
      "max    4976.000000  3.124928e+06\n",
      "school_name    object\n",
      "type           object\n",
      "size            int64\n",
      "budget          int64\n",
      "dtype: object\n",
      "school_name    15\n",
      "type           15\n",
      "size           15\n",
      "budget         15\n",
      "dtype: int64\n",
      "                     school_name      type  size   budget\n",
      "School ID                                                \n",
      "0              Huang High School  District  2917  1910635\n",
      "1           Figueroa High School  District  2949  1884411\n",
      "2            Shelton High School   Charter  1761  1056600\n",
      "3          Hernandez High School  District  4635  3022020\n",
      "4            Griffin High School   Charter  1468   917500\n"
     ]
    }
   ],
   "source": [
    "#Check dataset consistency and stats\n",
    "print(schools_df.describe())\n",
    "print(schools_df.dtypes)\n",
    "print(schools_df.count())\n",
    "print(schools_df.head())"
   ]
  },
  {
   "cell_type": "code",
   "execution_count": 14,
   "id": "0e86936d",
   "metadata": {},
   "outputs": [
    {
     "name": "stdout",
     "output_type": "stream",
     "text": [
      "       reading_score    math_score\n",
      "count    39170.00000  39170.000000\n",
      "mean        81.87784     78.985371\n",
      "std         10.23958     12.309968\n",
      "min         63.00000     55.000000\n",
      "25%         73.00000     69.000000\n",
      "50%         82.00000     79.000000\n",
      "75%         91.00000     89.000000\n",
      "max         99.00000     99.000000\n",
      "student_name     object\n",
      "gender           object\n",
      "grade            object\n",
      "school_name      object\n",
      "reading_score     int64\n",
      "math_score        int64\n",
      "dtype: object\n",
      "student_name     39170\n",
      "gender           39170\n",
      "grade            39170\n",
      "school_name      39170\n",
      "reading_score    39170\n",
      "math_score       39170\n",
      "dtype: int64\n",
      "                 student_name gender grade        school_name  reading_score  \\\n",
      "Student ID                                                                     \n",
      "0                Paul Bradley      M   9th  Huang High School             66   \n",
      "1                Victor Smith      M  12th  Huang High School             94   \n",
      "2             Kevin Rodriguez      M  12th  Huang High School             90   \n",
      "3           Dr. Richard Scott      M  12th  Huang High School             67   \n",
      "4                  Bonnie Ray      F   9th  Huang High School             97   \n",
      "\n",
      "            math_score  \n",
      "Student ID              \n",
      "0                   79  \n",
      "1                   61  \n",
      "2                   60  \n",
      "3                   58  \n",
      "4                   84  \n"
     ]
    }
   ],
   "source": [
    "#Check dataset consistency and stats\n",
    "print(students_df.describe())\n",
    "print(students_df.dtypes)\n",
    "print(students_df.count())\n",
    "print(students_df.head())"
   ]
  },
  {
   "cell_type": "code",
   "execution_count": 8,
   "id": "d711bed8",
   "metadata": {},
   "outputs": [
    {
     "name": "stdout",
     "output_type": "stream",
     "text": [
      "       School ID         size        budget\n",
      "count  15.000000    15.000000  1.500000e+01\n",
      "mean    7.000000  2611.333333  1.643295e+06\n",
      "std     4.472136  1420.915282  9.347763e+05\n",
      "min     0.000000   427.000000  2.480870e+05\n",
      "25%     3.500000  1698.000000  1.046265e+06\n",
      "50%     7.000000  2283.000000  1.319574e+06\n",
      "75%    10.500000  3474.000000  2.228999e+06\n",
      "max    14.000000  4976.000000  3.124928e+06\n",
      "School ID       int64\n",
      "school_name    object\n",
      "type           object\n",
      "size            int64\n",
      "budget          int64\n",
      "dtype: object\n",
      "School ID      15\n",
      "school_name    15\n",
      "type           15\n",
      "size           15\n",
      "budget         15\n",
      "dtype: int64\n",
      "   School ID            school_name      type  size   budget\n",
      "0          0      Huang High School  District  2917  1910635\n",
      "1          1   Figueroa High School  District  2949  1884411\n",
      "2          2    Shelton High School   Charter  1761  1056600\n",
      "3          3  Hernandez High School  District  4635  3022020\n",
      "4          4    Griffin High School   Charter  1468   917500\n"
     ]
    }
   ],
   "source": []
  },
  {
   "cell_type": "markdown",
   "id": "7fbdf6dc",
   "metadata": {},
   "source": [
    "Primary analysis\n",
    "================"
   ]
  },
  {
   "cell_type": "markdown",
   "id": "d33a3e0a",
   "metadata": {},
   "source": [
    "District Summary\n",
    "------------------------"
   ]
  },
  {
   "cell_type": "code",
   "execution_count": null,
   "id": "04064ed4",
   "metadata": {},
   "outputs": [],
   "source": [
    "#Total schools\n",
    "\n",
    "\n",
    "#Total students\n",
    "\n",
    "\n",
    "#Total budget\n",
    "\n",
    "\n",
    "#Average maths score\n",
    "\n",
    "\n",
    "#Average reading score\n",
    "\n",
    "\n",
    "#% passing maths\n",
    "\n",
    "\n",
    "#% passing reading\n",
    "\n",
    "\n",
    "#% overall passing\n",
    "\n",
    "\n",
    "#Create summary table"
   ]
  },
  {
   "cell_type": "markdown",
   "id": "e973becc",
   "metadata": {},
   "source": [
    "School Summary\n",
    "------------------------"
   ]
  },
  {
   "cell_type": "code",
   "execution_count": null,
   "id": "b5146b5f",
   "metadata": {},
   "outputs": [],
   "source": [
    "#Group by School Name\n",
    "\n",
    "\n",
    "#Select columns\n",
    "\n",
    "\n",
    "#Total students\n",
    "\n",
    "\n",
    "#Total school budget\n",
    "\n",
    "\n",
    "#Per student budget\n",
    "\n",
    "\n",
    "#Average maths score\n",
    "\n",
    "\n",
    "#Average reading score\n",
    "\n",
    "\n",
    "#% Passing maths\n",
    "\n",
    "\n",
    "#% passing reading\n",
    "\n",
    "\n",
    "#% overall passing"
   ]
  },
  {
   "cell_type": "markdown",
   "id": "47acd31b",
   "metadata": {},
   "source": [
    "Top performing schools\n",
    "----------------------------------"
   ]
  },
  {
   "cell_type": "code",
   "execution_count": null,
   "id": "56e64baf",
   "metadata": {},
   "outputs": [],
   "source": [
    "#Sort school summary\n",
    "\n",
    "\n",
    "#Select top 5"
   ]
  },
  {
   "cell_type": "markdown",
   "id": "2d56b4f8",
   "metadata": {},
   "source": [
    "Bottom performing schools\n",
    "-------------------------------------"
   ]
  },
  {
   "cell_type": "code",
   "execution_count": null,
   "id": "e47108c6",
   "metadata": {},
   "outputs": [],
   "source": [
    "#Sort school summary\n",
    "\n",
    "\n",
    "#Select bottom 5\n"
   ]
  },
  {
   "cell_type": "markdown",
   "id": "2f869089",
   "metadata": {},
   "source": [
    "Secondary analysis\n",
    "=================="
   ]
  },
  {
   "cell_type": "markdown",
   "id": "174ead30",
   "metadata": {},
   "source": [
    "Maths scores by grade\n",
    "---------------------"
   ]
  },
  {
   "cell_type": "markdown",
   "id": "fe9efd20",
   "metadata": {},
   "source": [
    "Reading scores by grade\n",
    "-----------------------"
   ]
  },
  {
   "cell_type": "markdown",
   "id": "97e60104",
   "metadata": {},
   "source": [
    "Scores by school spending\n",
    "-------------------------"
   ]
  },
  {
   "cell_type": "code",
   "execution_count": null,
   "id": "617dd1b3",
   "metadata": {},
   "outputs": [],
   "source": [
    "#Define bins\n",
    "\n",
    "\n",
    "#Select data\n",
    "\n",
    "\n",
    "#Bin data"
   ]
  },
  {
   "cell_type": "markdown",
   "id": "8525b1d6",
   "metadata": {},
   "source": [
    "Scores by school size\n",
    "---------------------"
   ]
  },
  {
   "cell_type": "code",
   "execution_count": null,
   "id": "50885407",
   "metadata": {},
   "outputs": [],
   "source": [
    "#Define bins\n",
    "\n",
    "\n",
    "#Select data\n",
    "\n",
    "\n",
    "#Bin data"
   ]
  },
  {
   "cell_type": "markdown",
   "id": "207af4fd",
   "metadata": {},
   "source": [
    "Scores by school type\n",
    "---------------------"
   ]
  },
  {
   "cell_type": "code",
   "execution_count": null,
   "id": "83061907",
   "metadata": {},
   "outputs": [],
   "source": [
    "#Define bins\n",
    "\n",
    "\n",
    "#Select data\n",
    "\n",
    "\n",
    "#Bin data"
   ]
  },
  {
   "cell_type": "markdown",
   "id": "32ba2c39",
   "metadata": {},
   "source": [
    "Reporting\n",
    "========="
   ]
  }
 ],
 "metadata": {
  "kernelspec": {
   "display_name": "Python 3 (ipykernel)",
   "language": "python",
   "name": "python3"
  },
  "language_info": {
   "codemirror_mode": {
    "name": "ipython",
    "version": 3
   },
   "file_extension": ".py",
   "mimetype": "text/x-python",
   "name": "python",
   "nbconvert_exporter": "python",
   "pygments_lexer": "ipython3",
   "version": "3.8.10"
  }
 },
 "nbformat": 4,
 "nbformat_minor": 5
}
